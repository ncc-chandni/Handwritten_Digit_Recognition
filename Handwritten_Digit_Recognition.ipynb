{
  "nbformat": 4,
  "nbformat_minor": 0,
  "metadata": {
    "colab": {
      "provenance": []
    },
    "kernelspec": {
      "name": "python3",
      "display_name": "Python 3"
    },
    "language_info": {
      "name": "python"
    }
  },
  "cells": [
    {
      "cell_type": "code",
      "source": [
        "import os\n",
        "import cv2\n",
        "import numpy as np\n",
        "import tensorflow as tf\n",
        "import matplotlib.pyplot as plt"
      ],
      "metadata": {
        "id": "uYM3ewQegY7l"
      },
      "execution_count": 3,
      "outputs": []
    },
    {
      "cell_type": "code",
      "source": [
        "print(\"Handwritten Digits Recognition\")"
      ],
      "metadata": {
        "colab": {
          "base_uri": "https://localhost:8080/"
        },
        "id": "C-Bl4_U0gbH5",
        "outputId": "11e10e32-64c4-4bb1-87f9-9f6a198fbabc"
      },
      "execution_count": 2,
      "outputs": [
        {
          "output_type": "stream",
          "name": "stdout",
          "text": [
            "Handwritten Digits Recognition\n"
          ]
        }
      ]
    },
    {
      "cell_type": "code",
      "execution_count": 6,
      "metadata": {
        "colab": {
          "base_uri": "https://localhost:8080/"
        },
        "id": "JQKR-hMucYdY",
        "outputId": "9895c3e3-6002-4da7-c22e-5dd798de5d8f"
      },
      "outputs": [
        {
          "output_type": "stream",
          "name": "stdout",
          "text": [
            "Epoch 1/3\n",
            "1875/1875 [==============================] - 8s 4ms/step - loss: 0.2607 - accuracy: 0.9222\n",
            "Epoch 2/3\n",
            "1875/1875 [==============================] - 8s 4ms/step - loss: 0.1084 - accuracy: 0.9662\n",
            "Epoch 3/3\n",
            "1875/1875 [==============================] - 7s 3ms/step - loss: 0.0754 - accuracy: 0.9759\n",
            "313/313 [==============================] - 1s 2ms/step - loss: 0.0968 - accuracy: 0.9720\n",
            "Loss:0.09678635746240616\n",
            "Accuracy : 0.972000002861023\n"
          ]
        }
      ],
      "source": [
        "# Decide if to load an existing model or to train a new one\n",
        "train_new_model = True\n",
        "\n",
        "if train_new_model:\n",
        "    # Loading the MNIST data set with samples and splitting it\n",
        "    mnist = tf.keras.datasets.mnist\n",
        "    (X_train, y_train), (X_test, y_test) = mnist.load_data()\n",
        "\n",
        "    # Normalizing the data (making length = 1)\n",
        "    X_train = tf.keras.utils.normalize(X_train, axis=1)\n",
        "    X_test = tf.keras.utils.normalize(X_test, axis=1)\n",
        "\n",
        "    # Create a neural network model\n",
        "    # Add one flattened input layer for the pixels\n",
        "    # Add two dense hidden layers\n",
        "    # Add one dense output layer for the 10 digits\n",
        "    model = tf.keras.models.Sequential()\n",
        "    model.add(tf.keras.layers.Flatten())\n",
        "    model.add(tf.keras.layers.Dense(units=128, activation=tf.nn.relu))\n",
        "    model.add(tf.keras.layers.Dense(units=128, activation=tf.nn.relu))\n",
        "    model.add(tf.keras.layers.Dense(units=10, activation=tf.nn.softmax))\n",
        "\n",
        "    # Compiling and optimizing model\n",
        "    model.compile(optimizer='adam', loss='sparse_categorical_crossentropy', metrics=['accuracy'])\n",
        "\n",
        "    # Training the model\n",
        "    model.fit(X_train, y_train, epochs=3)\n",
        "\n",
        "    # Evaluating the model\n",
        "    val_loss, val_acc = model.evaluate(X_test, y_test)\n",
        "    print(f\"Loss:{val_loss}\")\n",
        "    print(f\"Accuracy : {val_acc}\")\n",
        "\n",
        "    # Saving the model\n",
        "    model.save('handwritten_digits.model')\n",
        "else:\n",
        "    # Load the model\n",
        "    model = tf.keras.models.load_model('handwritten_digits.model')"
      ]
    },
    {
      "cell_type": "code",
      "source": [
        "# Load custom images and predict them\n",
        "image_number = 1\n",
        "while os.path.isfile('digits/digit{}.png'.format(image_number)):\n",
        "    try:\n",
        "        img = cv2.imread('digits/digit{}.png'.format(image_number))[:,:,0]\n",
        "        img = np.invert(np.array([img]))\n",
        "        prediction = model.predict(img)\n",
        "        print(\"The number is probably a {}\".format(np.argmax(prediction)))\n",
        "        plt.imshow(img[0], cmap=plt.cm.binary)\n",
        "        plt.show()\n",
        "        image_number += 1\n",
        "    except:\n",
        "        print(\"Error reading image! Proceeding with next image...\")\n",
        "        image_number += 1"
      ],
      "metadata": {
        "id": "9j_60yb4fqHf"
      },
      "execution_count": 5,
      "outputs": []
    },
    {
      "cell_type": "code",
      "source": [],
      "metadata": {
        "id": "XhAIDuyNgoEW"
      },
      "execution_count": null,
      "outputs": []
    }
  ]
}